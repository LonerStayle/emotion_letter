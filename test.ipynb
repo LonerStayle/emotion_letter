{
 "cells": [
  {
   "cell_type": "code",
   "execution_count": 3,
   "id": "8c46c104",
   "metadata": {},
   "outputs": [
    {
     "name": "stdout",
     "output_type": "stream",
     "text": [
      "├── tests\n",
      "│   ├── rag_test.ipynb\n",
      "│   └── api_test.ipynb\n",
      "├── backend\n",
      "│   ├── model\n",
      "│   │   ├── ResponseData.py\n",
      "│   │   └── RequestData.py\n",
      "│   ├── api\n",
      "│   │   └── main.py\n",
      "│   └── services\n",
      "│       ├── letter_service.py\n",
      "│       ├── user_service.py\n",
      "│       └── ai_proxy.py\n",
      "└── ai_service\n",
      "    ├── tools\n",
      "    │   ├── rag_tools\n",
      "    │   │   └── rag_tool.py\n",
      "    │   ├── web_search.py\n",
      "    │   └── mcp_tools\n",
      "    │       └── mcp_tool.py\n",
      "    ├── tools_setting\n",
      "    │   ├── mcp\n",
      "    │   │   ├── mcp_client.py\n",
      "    │   │   └── mcp_server.py\n",
      "    │   └── rag\n",
      "    │       ├── chunking.py\n",
      "    │       ├── retriever.py\n",
      "    │       ├── embeddings.py\n",
      "    │       └── loader.py\n",
      "    ├── core\n",
      "    │   ├── Config.py\n",
      "    │   ├── enum\n",
      "    │   │   └── Enum.py\n",
      "    │   └── llm.py\n",
      "    ├── memory\n",
      "    │   ├── CacheMemory.py\n",
      "    │   └── RedisMemory.py\n",
      "    ├── graph\n",
      "    │   ├── state\n",
      "    │   │   └── GraphState.py\n",
      "    │   ├── work_flow.py\n",
      "    │   └── routes\n",
      "    │       └── agent_route.py\n",
      "    ├── agents\n",
      "    │   ├── task_agent.py\n",
      "    │   └── critic_agent.py\n",
      "    └── preprocesser\n",
      "        └── preprocessor.ipynb\n"
     ]
    }
   ],
   "source": [
    "# tree_view.py\n",
    "import os\n",
    "\n",
    "def print_tree(start_path, prefix=\"\"):\n",
    "    items = os.listdir(start_path)\n",
    "    for index, name in enumerate(items):\n",
    "        path = os.path.join(start_path, name)\n",
    "        connector = \"└── \" if index == len(items) - 1 else \"├── \"\n",
    "        print(prefix + connector + name)\n",
    "        if os.path.isdir(path):\n",
    "            extension = \"    \" if index == len(items) - 1 else \"│   \"\n",
    "            print_tree(path, prefix + extension)\n",
    "\n",
    "if __name__ == \"__main__\":\n",
    "    print_tree(\"app\")   # app 폴더 기준으로 트리 출력\n"
   ]
  },
  {
   "cell_type": "code",
   "execution_count": null,
   "id": "b621e853",
   "metadata": {},
   "outputs": [],
   "source": [
    "var = 1"
   ]
  }
 ],
 "metadata": {
  "kernelspec": {
   "display_name": "hand_letter",
   "language": "python",
   "name": "python3"
  },
  "language_info": {
   "codemirror_mode": {
    "name": "ipython",
    "version": 3
   },
   "file_extension": ".py",
   "mimetype": "text/x-python",
   "name": "python",
   "nbconvert_exporter": "python",
   "pygments_lexer": "ipython3",
   "version": "3.11.13"
  }
 },
 "nbformat": 4,
 "nbformat_minor": 5
}
