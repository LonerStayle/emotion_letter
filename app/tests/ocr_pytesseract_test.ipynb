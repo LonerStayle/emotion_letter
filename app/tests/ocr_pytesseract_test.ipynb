{
 "cells": [
  {
   "cell_type": "markdown",
   "id": "9a92bd92",
   "metadata": {},
   "source": [
    "# 라이브러리 임포트 & 경로 지정"
   ]
  },
  {
   "cell_type": "markdown",
   "id": "7996d6da",
   "metadata": {},
   "source": [
    "1) https://github.com/UB-Mannheim/tesseract/wiki : 여기서 \n",
    "tesseract-ocr-w64-setup-5.5.0.20241111.exe (64 bit) 클릭 후 다운로드.\n",
    "\n",
    "2) https://github.com/tesseract-ocr/tessdata_best/blob/main/kor_vert.traineddata\n",
    ": 여기서 kor.traineddata, kor_vert.traineddata 다운로드 진행"
   ]
  },
  {
   "cell_type": "code",
   "execution_count": 12,
   "id": "c19a7c79",
   "metadata": {},
   "outputs": [],
   "source": [
    "# uv add opencv-python pillow pytesseract matplotlib numpy 해야합니다\n",
    "\n",
    "\n",
    "import cv2\n",
    "import pytesseract\n",
    "from PIL import Image\n",
    "\n",
    "# Windows 환경에서 설치된 Tesseract 실행 파일 경로\n",
    "pytesseract.pytesseract.tesseract_cmd = r\"C:/Program Files/Tesseract-OCR/tesseract.exe\""
   ]
  },
  {
   "cell_type": "markdown",
   "id": "c44a2d42",
   "metadata": {},
   "source": [
    "# OCR 텍스트 추출 함수"
   ]
  },
  {
   "cell_type": "markdown",
   "id": "ea482379",
   "metadata": {},
   "source": [
    "입력 이미지를 전처리 한 후에 텍스트로 변환하는 OCR 기본 함수이다."
   ]
  },
  {
   "cell_type": "code",
   "execution_count": 13,
   "id": "fa3a672b",
   "metadata": {},
   "outputs": [],
   "source": [
    "def extract_text(img_path: str) -> str:\n",
    "    \"\"\"\n",
    "    손글씨 이미지에서 텍스트 추출\n",
    "    - return : 추출된 문자열\n",
    "    \"\"\"\n",
    "    img = cv2.imread(img_path)\n",
    "    gray = cv2.cvtColor(img, cv2.COLOR_BGR2GRAY)\n",
    "    _, thresh = cv2.threshold(gray, 150, 255, cv2.THRESH_BINARY)\n",
    "    text = pytesseract.image_to_string(\n",
    "        thresh, lang=\"kor+eng\"\n",
    "    )  # OCR 실행, 언어 data에 따라 변경할 수 있다.\n",
    "    return text.strip()"
   ]
  },
  {
   "cell_type": "markdown",
   "id": "87503043",
   "metadata": {},
   "source": [
    "# OCR 실행"
   ]
  },
  {
   "cell_type": "code",
   "execution_count": 15,
   "id": "57a35a74",
   "metadata": {},
   "outputs": [
    {
     "name": "stdout",
     "output_type": "stream",
     "text": [
      "추출된 텍스트:\n",
      " To. OC 이게\n",
      "\n",
      "2 0  -\n",
      "HY .O0 ㆍ\n",
      "ㄴㅇ 구야   aba\n",
      "\n",
      "ve) 9 eek oN ia Sab\n",
      "apy shige sat CL   Sgt a Ble\n",
      "gem eat\n",
      "\n",
      "=\n",
      "\n",
      "ae\n",
      "rls\n",
      "\n",
      "S\n"
     ]
    }
   ],
   "source": [
    "# 테스트 이미지 OCR 실행\n",
    "\n",
    "result = extract_text(\"C:/emotion_letter/app/tests/data/sample_letter.jpg\")\n",
    "print(\"추출된 텍스트:\\n\", result)"
   ]
  },
  {
   "cell_type": "markdown",
   "id": "21375538",
   "metadata": {},
   "source": [
    "# 연필 손글씨 전처리 코드"
   ]
  },
  {
   "cell_type": "code",
   "execution_count": 18,
   "id": "06a3e396",
   "metadata": {},
   "outputs": [],
   "source": [
    "import cv2\n",
    "import pytesseract\n",
    "\n",
    "\n",
    "def extract_text_adaptive(img_path: str) -> str:\n",
    "    \"\"\"\n",
    "    연필 손글씨를 위한 OCR 전처리 + 추출\n",
    "    \"\"\"\n",
    "    img = cv2.imread(img_path)\n",
    "    gray = cv2.cvtColor(img, cv2.COLOR_BGR2GRAY)\n",
    "\n",
    "    # Adaptive Thresholding (지역별로 이진화)\n",
    "    thresh = cv2.adaptiveThreshold(\n",
    "        gray,\n",
    "        255,\n",
    "        cv2.ADAPTIVE_THRESH_GAUSSIAN_C,  # 주변 픽셀 가중치 사용\n",
    "        cv2.THRESH_BINARY,\n",
    "        31,  # 블록 크기 (홀수여야 함, 15~51 정도로 조정)\n",
    "        10,  # 상수(C), 값이 크면 글씨가 더 얇아짐, 작으면 두꺼워짐\n",
    "    )\n",
    "\n",
    "    # OCR 실행\n",
    "    custom_config = r\"--oem 3 --psm 6\"\n",
    "    text = pytesseract.image_to_string(thresh, lang=\"kor+eng\", config=custom_config)\n",
    "    return text.strip(), thresh"
   ]
  },
  {
   "cell_type": "code",
   "execution_count": 19,
   "id": "0afb15fc",
   "metadata": {},
   "outputs": [
    {
     "name": "stdout",
     "output_type": "stream",
     "text": [
      "추출된 텍스트:\n",
      " 0909 : Ub Sak 1 잘 4 내지 7 gz 나 지바 Gale 지 개 ‘ab 내 ae = 때 | :\n",
      ": 1 : | Be weblal           lols. 3 ee a zh 2 Bet. 13. leak bh Xp |  | 대 —\n"
     ]
    },
    {
     "data": {
      "text/plain": [
       "True"
      ]
     },
     "execution_count": 19,
     "metadata": {},
     "output_type": "execute_result"
    }
   ],
   "source": [
    "text, processed_img = extract_text_adaptive(\n",
    "    \"C:/emotion_letter/app/tests/data/sample_letter.jpg\"\n",
    ")\n",
    "print(\"추출된 텍스트:\\n\", text)\n",
    "\n",
    "# 결과 이미지 저장해서 눈으로 확인\n",
    "cv2.imwrite(\"processed.png\", processed_img)"
   ]
  },
  {
   "cell_type": "markdown",
   "id": "3e34bd4c",
   "metadata": {},
   "source": [
    "# 노트 선 제거 전처리"
   ]
  },
  {
   "cell_type": "code",
   "execution_count": 27,
   "id": "64ab5040",
   "metadata": {},
   "outputs": [],
   "source": [
    "import cv2\n",
    "import numpy as np\n",
    "\n",
    "\n",
    "def remove_lines(img):\n",
    "    gray = cv2.cvtColor(img, cv2.COLOR_BGR2GRAY)\n",
    "    thresh = cv2.adaptiveThreshold(\n",
    "        gray, 255, cv2.ADAPTIVE_THRESH_GAUSSIAN_C, cv2.THRESH_BINARY_INV, 15, 10\n",
    "    )\n",
    "\n",
    "    # 가로줄 검출\n",
    "    kernel = cv2.getStructuringElement(cv2.MORPH_RECT, (40, 1))\n",
    "    detect_lines = cv2.morphologyEx(thresh, cv2.MORPH_OPEN, kernel, iterations=2)\n",
    "\n",
    "    # 원본에서 선 제거\n",
    "    no_lines = cv2.subtract(thresh, detect_lines)\n",
    "    return no_lines, thresh, detect_lines"
   ]
  },
  {
   "cell_type": "markdown",
   "id": "cdb04888",
   "metadata": {},
   "source": [
    "# 선 제거 된 이미지 확인"
   ]
  },
  {
   "cell_type": "code",
   "execution_count": 28,
   "id": "03f3981a",
   "metadata": {},
   "outputs": [
    {
     "data": {
      "text/plain": [
       "True"
      ]
     },
     "execution_count": 28,
     "metadata": {},
     "output_type": "execute_result"
    }
   ],
   "source": [
    "img = cv2.imread(\"C:/emotion_letter/app/tests/data/sample_letter.jpg\")\n",
    "no_lines, thresh, detect_lines = remove_lines(img)\n",
    "\n",
    "# 결과 저장\n",
    "cv2.imwrite(\"01_thresh.png\", thresh)  # 기본 이진화\n",
    "cv2.imwrite(\"02_detect_lines.png\", detect_lines)  # 검출된 선\n",
    "cv2.imwrite(\"03_no_lines.png\", no_lines)  # 선 제거 후 이미지"
   ]
  },
  {
   "cell_type": "markdown",
   "id": "e820d4f9",
   "metadata": {},
   "source": [
    "# 선 제거 + 해상도 처리"
   ]
  },
  {
   "cell_type": "code",
   "execution_count": 23,
   "id": "3130bd76",
   "metadata": {},
   "outputs": [
    {
     "name": "stdout",
     "output_type": "stream",
     "text": [
      "1 To . DO al 개 가 배수 00020 ee\n",
      "다 Saleh. ab alufa)? BE Ub ali SAAR Se Sp\n",
      "이이 에트 NEA ee 지키기 느 ia eee 가 그 iS pL Een oh 2021 제; | Ho  .\n",
      ": : 우르 oe : - 때 : | | - 0 \\ 그 : 2: ~ |. : : 7 4 we 은 - 222. ： re] 2 >  7 a : . ： ， < | 씨 ㅇ ! a : : : 기고 pS . 2 x * py ㆍ | 수 7 4 \\~ a “e  / : . (il | - 때\n",
      "ee ' yet 대 SH 얄비이 Be es Pe Az : de 이스 ae a ee oe a . 이이 이\n",
      "0 이 」 터 | . 오 : ~ : AL 3  | Us | al : = > ; le} : | ： a : | : | - : : 터 oe :  ' _ 나 : 때 피 | 7 더 | | ： 이 7 | ~ : ： ; 이 | | 7 -  -  ： | : _ | | a - - 이니 무이 이 어스시 : |  =\n",
      "ee ee a'r )n/ 자 a\n",
      "\n"
     ]
    }
   ],
   "source": [
    "import cv2\n",
    "import pytesseract\n",
    "\n",
    "pytesseract.pytesseract.tesseract_cmd = r\"C:/Program Files/Tesseract-OCR/tesseract.exe\"\n",
    "\n",
    "\n",
    "def ocr_handwritten(img_path: str) -> str:\n",
    "    img = cv2.imread(img_path)\n",
    "\n",
    "    # 노트 줄 제거\n",
    "    processed = remove_lines(img)\n",
    "\n",
    "    # 해상도 확대\n",
    "    resized = cv2.resize(processed, None, fx=2, fy=2, interpolation=cv2.INTER_CUBIC)\n",
    "\n",
    "    # OCR 실행\n",
    "    custom_config = r\"--oem 3 --psm 6\"\n",
    "    text = pytesseract.image_to_string(resized, lang=\"kor+eng\", config=custom_config)\n",
    "    return text\n",
    "\n",
    "\n",
    "print(ocr_handwritten(\"C:/emotion_letter/app/tests/data/sample_letter.jpg\"))"
   ]
  },
  {
   "cell_type": "code",
   "execution_count": null,
   "id": "5167a9fc",
   "metadata": {},
   "outputs": [],
   "source": []
  }
 ],
 "metadata": {
  "kernelspec": {
   "display_name": "emotion_letter",
   "language": "python",
   "name": "python3"
  },
  "language_info": {
   "codemirror_mode": {
    "name": "ipython",
    "version": 3
   },
   "file_extension": ".py",
   "mimetype": "text/x-python",
   "name": "python",
   "nbconvert_exporter": "python",
   "pygments_lexer": "ipython3",
   "version": "3.11.13"
  }
 },
 "nbformat": 4,
 "nbformat_minor": 5
}
