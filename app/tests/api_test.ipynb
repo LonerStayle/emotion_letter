{
 "cells": [],
 "metadata": {
  "kernelspec": {
   "display_name": "hand_letter",
   "language": "python",
   "name": "python3"
  },
  "language_info": {
   "name": "python",
   "version": "3.11.13"
  }
 },
 "nbformat": 4,
 "nbformat_minor": 5
}
